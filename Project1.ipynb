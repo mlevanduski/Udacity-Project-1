{
 "cells": [
  {
   "cell_type": "code",
   "execution_count": 2,
   "metadata": {},
   "outputs": [],
   "source": [
    "\"\"\"\n",
    "Boston Airbnb df transformation, analysis and blog post\n",
    "\n",
    "Questions that will be explored:\n",
    "1. What percentage of hosts are superhosts?\n",
    "2. How does the average nightly price vary by bedroom?\n",
    "3. How does the average nightly price vary by neighborhood?\n",
    "4. Can the average nightly price be predicted based on certain variables?\n",
    "\"\"\"\n",
    "\n",
    "# Module imports\n",
    "import pandas as pd\n",
    "import numpy as np\n",
    "import matplotlib.pyplot as plt\n",
    "from sklearn.linear_model import LinearRegression\n",
    "from sklearn.model_selection import train_test_split\n",
    "from sklearn.metrics import r2_score, mean_squared_error\n",
    "import seaborn as sns\n",
    "%matplotlib inline"
   ]
  },
  {
   "cell_type": "code",
   "execution_count": 3,
   "metadata": {},
   "outputs": [
    {
     "data": {
      "text/plain": [
       "Index(['id', 'listing_url', 'scrape_id', 'last_scraped', 'name', 'summary',\n",
       "       'space', 'description', 'experiences_offered', 'neighborhood_overview',\n",
       "       'notes', 'transit', 'access', 'interaction', 'house_rules',\n",
       "       'thumbnail_url', 'medium_url', 'picture_url', 'xl_picture_url',\n",
       "       'host_id', 'host_url', 'host_name', 'host_since', 'host_location',\n",
       "       'host_about', 'host_response_time', 'host_response_rate',\n",
       "       'host_acceptance_rate', 'host_is_superhost', 'host_thumbnail_url',\n",
       "       'host_picture_url', 'host_neighbourhood', 'host_listings_count',\n",
       "       'host_total_listings_count', 'host_verifications',\n",
       "       'host_has_profile_pic', 'host_identity_verified', 'street',\n",
       "       'neighbourhood', 'neighbourhood_cleansed',\n",
       "       'neighbourhood_group_cleansed', 'city', 'state', 'zipcode', 'market',\n",
       "       'smart_location', 'country_code', 'country', 'latitude', 'longitude',\n",
       "       'is_location_exact', 'property_type', 'room_type', 'accommodates',\n",
       "       'bathrooms', 'bedrooms', 'beds', 'bed_type', 'amenities', 'square_feet',\n",
       "       'price', 'weekly_price', 'monthly_price', 'security_deposit',\n",
       "       'cleaning_fee', 'guests_included', 'extra_people', 'minimum_nights',\n",
       "       'maximum_nights', 'calendar_updated', 'has_availability',\n",
       "       'availability_30', 'availability_60', 'availability_90',\n",
       "       'availability_365', 'calendar_last_scraped', 'number_of_reviews',\n",
       "       'first_review', 'last_review', 'review_scores_rating',\n",
       "       'review_scores_accuracy', 'review_scores_cleanliness',\n",
       "       'review_scores_checkin', 'review_scores_communication',\n",
       "       'review_scores_location', 'review_scores_value', 'requires_license',\n",
       "       'license', 'jurisdiction_names', 'instant_bookable',\n",
       "       'cancellation_policy', 'require_guest_profile_picture',\n",
       "       'require_guest_phone_verification', 'calculated_host_listings_count',\n",
       "       'reviews_per_month'],\n",
       "      dtype='object')"
      ]
     },
     "execution_count": 3,
     "metadata": {},
     "output_type": "execute_result"
    }
   ],
   "source": [
    "# Load data from csv file using pd.read_csv() and visualize columns in data set\n",
    "df = pd.read_csv('C:/Users/MLevanduski/Desktop/Data Science Udacity/Blog Post Lesson 1/Boston/listings.csv')\n",
    "df.columns"
   ]
  },
  {
   "cell_type": "code",
   "execution_count": 4,
   "metadata": {},
   "outputs": [
    {
     "name": "stdout",
     "output_type": "stream",
     "text": [
      "{'accommodates', 'host_has_profile_pic', 'longitude', 'amenities', 'host_id', 'price', 'requires_license', 'host_since', 'require_guest_profile_picture', 'listing_url', 'availability_90', 'description', 'host_identity_verified', 'latitude', 'maximum_nights', 'host_is_superhost', 'host_total_listings_count', 'minimum_nights', 'last_scraped', 'extra_people', 'availability_365', 'calendar_last_scraped', 'number_of_reviews', 'room_type', 'street', 'name', 'neighbourhood_cleansed', 'cancellation_policy', 'availability_30', 'smart_location', 'host_listings_count', 'country_code', 'id', 'host_picture_url', 'calculated_host_listings_count', 'picture_url', 'calendar_updated', 'host_verifications', 'country', 'require_guest_phone_verification', 'is_location_exact', 'instant_bookable', 'host_url', 'experiences_offered', 'host_thumbnail_url', 'scrape_id', 'bed_type', 'availability_60', 'host_name', 'guests_included', 'state'}\n"
     ]
    }
   ],
   "source": [
    "# Find which columns contain no null values\n",
    "no_nulls = set(df.columns[df.isnull().mean()==0])\n",
    "print(no_nulls)"
   ]
  },
  {
   "cell_type": "code",
   "execution_count": 5,
   "metadata": {},
   "outputs": [
    {
     "name": "stdout",
     "output_type": "stream",
     "text": [
      "{'accommodates', 'host_has_profile_pic', 'longitude', 'amenities', 'host_id', 'price', 'availability_60', 'requires_license', 'host_since', 'require_guest_profile_picture', 'listing_url', 'availability_90', 'description', 'host_identity_verified', 'latitude', 'host_neighbourhood', 'maximum_nights', 'host_is_superhost', 'host_total_listings_count', 'minimum_nights', 'last_scraped', 'extra_people', 'availability_365', 'calendar_last_scraped', 'number_of_reviews', 'room_type', 'summary', 'street', 'zipcode', 'bedrooms', 'name', 'neighbourhood_cleansed', 'cancellation_policy', 'availability_30', 'smart_location', 'host_listings_count', 'country_code', 'id', 'host_picture_url', 'city', 'beds', 'calculated_host_listings_count', 'picture_url', 'calendar_updated', 'host_verifications', 'country', 'require_guest_phone_verification', 'is_location_exact', 'instant_bookable', 'host_url', 'experiences_offered', 'host_thumbnail_url', 'market', 'scrape_id', 'host_location', 'property_type', 'bathrooms', 'host_name', 'bed_type', 'guests_included', 'state'}\n"
     ]
    }
   ],
   "source": [
    "# Find which columns have less than 10% missing values\n",
    "low_missing_cols = set(df.columns[df.isnull().mean() < 0.10])\n",
    "print(low_missing_cols)"
   ]
  },
  {
   "cell_type": "code",
   "execution_count": 6,
   "metadata": {},
   "outputs": [
    {
     "name": "stdout",
     "output_type": "stream",
     "text": [
      "{'has_availability', 'neighbourhood_group_cleansed', 'monthly_price', 'security_deposit', 'license', 'jurisdiction_names', 'notes', 'weekly_price', 'square_feet'}\n"
     ]
    }
   ],
   "source": [
    "# Find which columns have 50% missing values\n",
    "mid_missing_cols = set(df.columns[df.isnull().mean() > 0.50])\n",
    "print(mid_missing_cols)"
   ]
  },
  {
   "cell_type": "code",
   "execution_count": 7,
   "metadata": {},
   "outputs": [
    {
     "name": "stdout",
     "output_type": "stream",
     "text": [
      "{'has_availability', 'neighbourhood_group_cleansed', 'monthly_price', 'license', 'jurisdiction_names', 'weekly_price', 'square_feet'}\n"
     ]
    }
   ],
   "source": [
    "# Find which columns have 75% missing values (will not use these columns since vast majority of data missing)\n",
    "high_missing_cols = set(df.columns[df.isnull().mean() > 0.75])\n",
    "print(high_missing_cols)"
   ]
  },
  {
   "cell_type": "code",
   "execution_count": 8,
   "metadata": {},
   "outputs": [
    {
     "name": "stdout",
     "output_type": "stream",
     "text": [
      "The percentage of superhosts in Boston airbnb market are 11.352859135285913% of all hosts\n"
     ]
    }
   ],
   "source": [
    "\"\"\"\n",
    "Question 1 Number of superhosts\n",
    "\"\"\"\n",
    "\n",
    "# Find number of superhosts (True == t)\n",
    "superhost_num = df[df['host_is_superhost'] == 't']['host_is_superhost'].value_counts().sum()\n",
    "# Find total number of hosts\n",
    "total_hosts = len(df['host_is_superhost'])\n",
    "# Calculate percentage of superhosts in Boston\n",
    "percent_superhost = superhost_num/total_hosts\n",
    "print(f'The percentage of superhosts in Boston airbnb market are {percent_superhost*100}% of all hosts')"
   ]
  },
  {
   "cell_type": "code",
   "execution_count": 9,
   "metadata": {},
   "outputs": [
    {
     "data": {
      "image/png": "[encoded data removed]",
      "text/plain": [
       "<Figure size 432x288 with 1 Axes>"
      ]
     },
     "metadata": {},
     "output_type": "display_data"
    }
   ],
   "source": [
    "# Create pie chart of superhost vs host\n",
    "percent_host = (1-percent_superhost)\n",
    "host_array = np.array([percent_superhost, percent_host])\n",
    "plt.pie(host_array, labels = ['Superhost','Host'], autopct='%1.1f%%');\n",
    "plt.legend();\n",
    "plt.savefig('superhost_pie.png', dpi=300, bbox_inches='tight')"
   ]
  },
  {
   "cell_type": "code",
   "execution_count": 10,
   "metadata": {},
   "outputs": [
    {
     "name": "stdout",
     "output_type": "stream",
     "text": [
      "The percent of nan values in 'bedrooms' column is 0.2789400278940028%\n"
     ]
    },
    {
     "data": {
      "text/plain": [
       "1.0    2379\n",
       "2.0     693\n",
       "0.0     287\n",
       "3.0     155\n",
       "4.0      45\n",
       "5.0      16\n",
       "Name: bedrooms, dtype: int64"
      ]
     },
     "execution_count": 10,
     "metadata": {},
     "output_type": "execute_result"
    }
   ],
   "source": [
    "'''\n",
    "Question 2 Number of bedroom influence on average nightly price\n",
    "''' \n",
    "\n",
    "# Determine the number of null values in 'bedrooms' column and the most common number of bedrooms\n",
    "nan_bedrooms = df['bedrooms'].isnull().mean()\n",
    "print(f\"The percent of nan values in 'bedrooms' column is {nan_bedrooms*100}%\")\n",
    "df['bedrooms'].value_counts()"
   ]
  },
  {
   "cell_type": "code",
   "execution_count": 11,
   "metadata": {},
   "outputs": [
    {
     "data": {
      "image/png": "[encoded data removed]",
      "text/plain": [
       "<Figure size 432x288 with 1 Axes>"
      ]
     },
     "metadata": {
      "needs_background": "light"
     },
     "output_type": "display_data"
    }
   ],
   "source": [
    "# Given extremely low nan values comfortable to dropna in 'bedrooms' column. Could have also imputed 1 bedroom since most common value\n",
    "bedrooms_df = df.dropna(subset=['bedrooms'], axis=0)\n",
    "\n",
    "#Convert price to float using regular expresions and .astype() method\n",
    "df_pricetype = bedrooms_df.copy()\n",
    "df_pricetype['price'] = df_pricetype['price'].replace({'\\$': '',',':''}, regex = True).astype(float)\n",
    "df_pricetype.groupby(['bedrooms']).mean()['price'].plot(kind = 'bar');\n",
    "plt.title('Average nightly Boston Airbnb price corresponding to bedroom count');\n",
    "plt.ylabel('Average Price (USD)');\n",
    "plt.xlabel('Bedrooms');\n",
    "plt.savefig('bedrooms.png', dpi=300, bbox_inches='tight')"
   ]
  },
  {
   "cell_type": "code",
   "execution_count": 12,
   "metadata": {},
   "outputs": [
    {
     "data": {
      "text/plain": [
       "bedrooms\n",
       "0.0    154.668990\n",
       "1.0    136.285834\n",
       "2.0    258.753247\n",
       "3.0    316.419355\n",
       "4.0    389.400000\n",
       "5.0    429.000000\n",
       "Name: price, dtype: float64"
      ]
     },
     "execution_count": 12,
     "metadata": {},
     "output_type": "execute_result"
    }
   ],
   "source": [
    "# Get view of data in chart above\n",
    "df_pricetype.groupby(['bedrooms']).mean()['price']"
   ]
  },
  {
   "cell_type": "code",
   "execution_count": 13,
   "metadata": {},
   "outputs": [
    {
     "name": "stdout",
     "output_type": "stream",
     "text": [
      "The percent of nan values in 'neighbourhood' column is 15.188811188811188%\n"
     ]
    }
   ],
   "source": [
    "'''\n",
    "Question 3 - Average nightly price by neighbourhood\n",
    "'''\n",
    "\n",
    "# Check nan values in neighbourhood column\n",
    "nan_neighbourhood = df_pricetype['neighbourhood'].isnull().mean()\n",
    "print(f\"The percent of nan values in 'neighbourhood' column is {nan_neighbourhood*100}%\")"
   ]
  },
  {
   "cell_type": "code",
   "execution_count": 14,
   "metadata": {},
   "outputs": [
    {
     "data": {
      "image/png": "[encoded data removed]",
      "text/plain": [
       "<Figure size 432x288 with 1 Axes>"
      ]
     },
     "metadata": {
      "needs_background": "light"
     },
     "output_type": "display_data"
    }
   ],
   "source": [
    "# Top 10 neighborhoods and percent composition of respective listings\n",
    "df_nb = df_pricetype.copy()\n",
    "\n",
    "# 15% is a significant amount of nan's, given categorical data will create an impute identifier called 'Unknown'. \n",
    "df_nb['neighbourhood'].fillna('Unknown',inplace=True)\n",
    "\n",
    "# Counting listings per neighbourhood\n",
    "count_nb = df_nb['neighbourhood'].value_counts()\n",
    "\n",
    "# Taking top 10 neighbourhoods and normalizing against total listings to get top 10 neighborhoods by percent of total listings\n",
    "(count_nb[:10]/df_nb.shape[0]).plot(kind='bar');\n",
    "plt.title('Top 10 neighbourhoods by percent of total Airbnb listings');\n",
    "plt.xlabel('Neighbourhood');\n",
    "plt.ylabel('Percent Composition');\n",
    "plt.savefig('.png', dpi=300, bbox_inches='tight')\n",
    "plt.savefig('listing_volume_location.png', dpi=300, bbox_inches='tight')"
   ]
  },
  {
   "cell_type": "code",
   "execution_count": 15,
   "metadata": {},
   "outputs": [
    {
     "data": {
      "image/png": "[encoded data removed]",
      "text/plain": [
       "<Figure size 432x288 with 1 Axes>"
      ]
     },
     "metadata": {
      "needs_background": "light"
     },
     "output_type": "display_data"
    }
   ],
   "source": [
    "# Grouping nieghborhood by price and sorting to obtain 10 most expensive neighbourhoods \n",
    "price_nb = (df_nb.groupby(['neighbourhood']).mean()['price'].sort_values(ascending=False)[:10])\n",
    "price_nb.plot(kind='bar');\n",
    "plt.title('Breakdown of 10 most expensive neighbourhoods for Airbnb listings in Boston');\n",
    "plt.ylabel('Average Price (USD)');\n",
    "plt.xlabel('Neighbourhood');\n",
    "plt.savefig('listing_expense_location.png', dpi=300, bbox_inches='tight')"
   ]
  },
  {
   "cell_type": "code",
   "execution_count": 16,
   "metadata": {},
   "outputs": [
    {
     "data": {
      "text/html": [
       "<div>\n",
       "<style scoped>\n",
       "    .dataframe tbody tr th:only-of-type {\n",
       "        vertical-align: middle;\n",
       "    }\n",
       "\n",
       "    .dataframe tbody tr th {\n",
       "        vertical-align: top;\n",
       "    }\n",
       "\n",
       "    .dataframe thead th {\n",
       "        text-align: right;\n",
       "    }\n",
       "</style>\n",
       "<table border=\"1\" class=\"dataframe\">\n",
       "  <thead>\n",
       "    <tr style=\"text-align: right;\">\n",
       "      <th></th>\n",
       "      <th>host_response_rate</th>\n",
       "      <th>bedrooms</th>\n",
       "      <th>bathrooms</th>\n",
       "      <th>number_of_reviews</th>\n",
       "      <th>availability_365</th>\n",
       "      <th>property_type</th>\n",
       "      <th>minimum_nights</th>\n",
       "      <th>price</th>\n",
       "    </tr>\n",
       "  </thead>\n",
       "  <tbody>\n",
       "    <tr>\n",
       "      <th>0</th>\n",
       "      <td>NaN</td>\n",
       "      <td>2.0</td>\n",
       "      <td>1.5</td>\n",
       "      <td>0</td>\n",
       "      <td>0</td>\n",
       "      <td>House</td>\n",
       "      <td>2</td>\n",
       "      <td>$250.00</td>\n",
       "    </tr>\n",
       "    <tr>\n",
       "      <th>1</th>\n",
       "      <td>100%</td>\n",
       "      <td>1.0</td>\n",
       "      <td>1.0</td>\n",
       "      <td>36</td>\n",
       "      <td>359</td>\n",
       "      <td>Apartment</td>\n",
       "      <td>2</td>\n",
       "      <td>$65.00</td>\n",
       "    </tr>\n",
       "    <tr>\n",
       "      <th>2</th>\n",
       "      <td>100%</td>\n",
       "      <td>1.0</td>\n",
       "      <td>1.0</td>\n",
       "      <td>41</td>\n",
       "      <td>319</td>\n",
       "      <td>Apartment</td>\n",
       "      <td>3</td>\n",
       "      <td>$65.00</td>\n",
       "    </tr>\n",
       "    <tr>\n",
       "      <th>3</th>\n",
       "      <td>100%</td>\n",
       "      <td>1.0</td>\n",
       "      <td>1.0</td>\n",
       "      <td>1</td>\n",
       "      <td>98</td>\n",
       "      <td>House</td>\n",
       "      <td>1</td>\n",
       "      <td>$75.00</td>\n",
       "    </tr>\n",
       "    <tr>\n",
       "      <th>4</th>\n",
       "      <td>100%</td>\n",
       "      <td>1.0</td>\n",
       "      <td>1.5</td>\n",
       "      <td>29</td>\n",
       "      <td>334</td>\n",
       "      <td>House</td>\n",
       "      <td>2</td>\n",
       "      <td>$79.00</td>\n",
       "    </tr>\n",
       "  </tbody>\n",
       "</table>\n",
       "</div>"
      ],
      "text/plain": [
       "  host_response_rate  bedrooms  bathrooms  number_of_reviews  \\\n",
       "0                NaN       2.0        1.5                  0   \n",
       "1               100%       1.0        1.0                 36   \n",
       "2               100%       1.0        1.0                 41   \n",
       "3               100%       1.0        1.0                  1   \n",
       "4               100%       1.0        1.5                 29   \n",
       "\n",
       "   availability_365 property_type  minimum_nights    price  \n",
       "0                 0         House               2  $250.00  \n",
       "1               359     Apartment               2   $65.00  \n",
       "2               319     Apartment               3   $65.00  \n",
       "3                98         House               1   $75.00  \n",
       "4               334         House               2   $79.00  "
      ]
     },
     "execution_count": 16,
     "metadata": {},
     "output_type": "execute_result"
    }
   ],
   "source": [
    "'''\n",
    "Question 4 - Simple ML model to predict average nightly price by certain variables in df_ml data set\n",
    "'''\n",
    "\n",
    "# Will copy dataframe to df_ml and filter out input variable and response variable columns of interest.\n",
    "# Looking to meausure response of average nightly price\n",
    "df_ml = df.copy()\n",
    "df_ml = df_ml[['host_response_rate','bedrooms','bathrooms','number_of_reviews','availability_365','property_type','minimum_nights','price']]\n",
    "df_ml.head()"
   ]
  },
  {
   "cell_type": "code",
   "execution_count": 17,
   "metadata": {},
   "outputs": [],
   "source": [
    "# Convert price from object to float\n",
    "df_ml1 = df_ml.copy()\n",
    "df_ml1['price'] = df_ml1['price'].replace({'\\$': '',',':''}, regex = True).astype(float)"
   ]
  },
  {
   "cell_type": "code",
   "execution_count": 18,
   "metadata": {},
   "outputs": [
    {
     "data": {
      "text/plain": [
       "host_response_rate    0.131381\n",
       "bedrooms              0.002789\n",
       "bathrooms             0.003905\n",
       "number_of_reviews     0.000000\n",
       "availability_365      0.000000\n",
       "property_type         0.000837\n",
       "minimum_nights        0.000000\n",
       "price                 0.000000\n",
       "dtype: float64"
      ]
     },
     "execution_count": 18,
     "metadata": {},
     "output_type": "execute_result"
    }
   ],
   "source": [
    "# Find out average null values by columns to determine whether to impute or drop\n",
    "df_ml1.isnull().mean()"
   ]
  },
  {
   "cell_type": "code",
   "execution_count": 19,
   "metadata": {},
   "outputs": [],
   "source": [
    "# Will drop property type nan values since percentage nan of 0.08% too low to significantly influence model\n",
    "df_ml2 = df_ml1.dropna(subset = ['property_type'], axis = 0)"
   ]
  },
  {
   "cell_type": "code",
   "execution_count": 20,
   "metadata": {},
   "outputs": [],
   "source": [
    "# Convert percentage string values in 'host_response_rate' to float values\n",
    "df_ml3 = df_ml2.copy()\n",
    "df_ml3['host_response_rate'] = (df_ml3['host_response_rate'].str.replace('%','').astype(float))/100"
   ]
  },
  {
   "cell_type": "code",
   "execution_count": 21,
   "metadata": {},
   "outputs": [
    {
     "data": {
      "text/plain": [
       "host_response_rate    0.0\n",
       "bedrooms              0.0\n",
       "bathrooms             0.0\n",
       "number_of_reviews     0.0\n",
       "availability_365      0.0\n",
       "property_type         0.0\n",
       "minimum_nights        0.0\n",
       "price                 0.0\n",
       "dtype: float64"
      ]
     },
     "execution_count": 21,
     "metadata": {},
     "output_type": "execute_result"
    }
   ],
   "source": [
    "# Will impute the nan values for bedrooms and bathrooms with the mode since they are categorical. Will impute the host_response rate with 1 (100%) since that is the most common value\n",
    "fill_mode = lambda col: col.fillna(col.mode()[0])\n",
    "df_ml3[['bedrooms','bathrooms']] = df_ml3[['bedrooms','bathrooms']].apply(fill_mode)\n",
    "df_ml3['host_response_rate'] = df_ml3['host_response_rate'].fillna(1)\n",
    "\n",
    "# Confirm no more nan values in dataframe\n",
    "df_ml3.isnull().mean()"
   ]
  },
  {
   "cell_type": "code",
   "execution_count": 22,
   "metadata": {},
   "outputs": [
    {
     "data": {
      "text/plain": [
       "Apartment          2612\n",
       "House               562\n",
       "Condominium         231\n",
       "Townhouse            54\n",
       "Bed & Breakfast      41\n",
       "Loft                 39\n",
       "Other                17\n",
       "Boat                 12\n",
       "Villa                 6\n",
       "Entire Floor          4\n",
       "Dorm                  2\n",
       "Camper/RV             1\n",
       "Guesthouse            1\n",
       "Name: property_type, dtype: int64"
      ]
     },
     "execution_count": 22,
     "metadata": {},
     "output_type": "execute_result"
    }
   ],
   "source": [
    "# Now we need to handle categorical data in 'property type' column\n",
    "df_ml3['property_type'].value_counts()"
   ]
  },
  {
   "cell_type": "code",
   "execution_count": 23,
   "metadata": {},
   "outputs": [
    {
     "data": {
      "text/html": [
       "<div>\n",
       "<style scoped>\n",
       "    .dataframe tbody tr th:only-of-type {\n",
       "        vertical-align: middle;\n",
       "    }\n",
       "\n",
       "    .dataframe tbody tr th {\n",
       "        vertical-align: top;\n",
       "    }\n",
       "\n",
       "    .dataframe thead th {\n",
       "        text-align: right;\n",
       "    }\n",
       "</style>\n",
       "<table border=\"1\" class=\"dataframe\">\n",
       "  <thead>\n",
       "    <tr style=\"text-align: right;\">\n",
       "      <th></th>\n",
       "      <th>host_response_rate</th>\n",
       "      <th>bedrooms</th>\n",
       "      <th>bathrooms</th>\n",
       "      <th>number_of_reviews</th>\n",
       "      <th>availability_365</th>\n",
       "      <th>property_type</th>\n",
       "      <th>minimum_nights</th>\n",
       "      <th>price</th>\n",
       "      <th>is_apartment</th>\n",
       "      <th>is_house</th>\n",
       "      <th>is_condo</th>\n",
       "    </tr>\n",
       "  </thead>\n",
       "  <tbody>\n",
       "    <tr>\n",
       "      <th>0</th>\n",
       "      <td>1.0</td>\n",
       "      <td>2.0</td>\n",
       "      <td>1.5</td>\n",
       "      <td>0</td>\n",
       "      <td>0</td>\n",
       "      <td>House</td>\n",
       "      <td>2</td>\n",
       "      <td>250.0</td>\n",
       "      <td>0</td>\n",
       "      <td>1</td>\n",
       "      <td>0</td>\n",
       "    </tr>\n",
       "    <tr>\n",
       "      <th>1</th>\n",
       "      <td>1.0</td>\n",
       "      <td>1.0</td>\n",
       "      <td>1.0</td>\n",
       "      <td>36</td>\n",
       "      <td>359</td>\n",
       "      <td>Apartment</td>\n",
       "      <td>2</td>\n",
       "      <td>65.0</td>\n",
       "      <td>1</td>\n",
       "      <td>0</td>\n",
       "      <td>0</td>\n",
       "    </tr>\n",
       "    <tr>\n",
       "      <th>2</th>\n",
       "      <td>1.0</td>\n",
       "      <td>1.0</td>\n",
       "      <td>1.0</td>\n",
       "      <td>41</td>\n",
       "      <td>319</td>\n",
       "      <td>Apartment</td>\n",
       "      <td>3</td>\n",
       "      <td>65.0</td>\n",
       "      <td>1</td>\n",
       "      <td>0</td>\n",
       "      <td>0</td>\n",
       "    </tr>\n",
       "    <tr>\n",
       "      <th>3</th>\n",
       "      <td>1.0</td>\n",
       "      <td>1.0</td>\n",
       "      <td>1.0</td>\n",
       "      <td>1</td>\n",
       "      <td>98</td>\n",
       "      <td>House</td>\n",
       "      <td>1</td>\n",
       "      <td>75.0</td>\n",
       "      <td>0</td>\n",
       "      <td>1</td>\n",
       "      <td>0</td>\n",
       "    </tr>\n",
       "    <tr>\n",
       "      <th>4</th>\n",
       "      <td>1.0</td>\n",
       "      <td>1.0</td>\n",
       "      <td>1.5</td>\n",
       "      <td>29</td>\n",
       "      <td>334</td>\n",
       "      <td>House</td>\n",
       "      <td>2</td>\n",
       "      <td>79.0</td>\n",
       "      <td>0</td>\n",
       "      <td>1</td>\n",
       "      <td>0</td>\n",
       "    </tr>\n",
       "  </tbody>\n",
       "</table>\n",
       "</div>"
      ],
      "text/plain": [
       "   host_response_rate  bedrooms  bathrooms  number_of_reviews  \\\n",
       "0                 1.0       2.0        1.5                  0   \n",
       "1                 1.0       1.0        1.0                 36   \n",
       "2                 1.0       1.0        1.0                 41   \n",
       "3                 1.0       1.0        1.0                  1   \n",
       "4                 1.0       1.0        1.5                 29   \n",
       "\n",
       "   availability_365 property_type  minimum_nights  price  is_apartment  \\\n",
       "0                 0         House               2  250.0             0   \n",
       "1               359     Apartment               2   65.0             1   \n",
       "2               319     Apartment               3   65.0             1   \n",
       "3                98         House               1   75.0             0   \n",
       "4               334         House               2   79.0             0   \n",
       "\n",
       "   is_house  is_condo  \n",
       "0         1         0  \n",
       "1         0         0  \n",
       "2         0         0  \n",
       "3         1         0  \n",
       "4         1         0  "
      ]
     },
     "execution_count": 23,
     "metadata": {},
     "output_type": "execute_result"
    }
   ],
   "source": [
    "# Given significant weight of values are apartment, house and condo we will use a custom binary encoding technique for simplicity\n",
    "\n",
    "# Create boolean columns is_apartment, is_house and is_condo\n",
    "df_ml3['is_apartment'] = np.where(df_ml3['property_type'].str.contains('Apartment'), 1, 0)\n",
    "df_ml3['is_house'] = np.where(df_ml3['property_type'].str.contains('House'), 1, 0)\n",
    "df_ml3['is_condo'] = np.where(df_ml3['property_type'].str.contains('Condominium'), 1, 0)\n",
    "df_ml3.head() #Shows last 3 columns have been added"
   ]
  },
  {
   "cell_type": "code",
   "execution_count": 24,
   "metadata": {},
   "outputs": [
    {
     "data": {
      "text/html": [
       "<div>\n",
       "<style scoped>\n",
       "    .dataframe tbody tr th:only-of-type {\n",
       "        vertical-align: middle;\n",
       "    }\n",
       "\n",
       "    .dataframe tbody tr th {\n",
       "        vertical-align: top;\n",
       "    }\n",
       "\n",
       "    .dataframe thead th {\n",
       "        text-align: right;\n",
       "    }\n",
       "</style>\n",
       "<table border=\"1\" class=\"dataframe\">\n",
       "  <thead>\n",
       "    <tr style=\"text-align: right;\">\n",
       "      <th></th>\n",
       "      <th>host_response_rate</th>\n",
       "      <th>bedrooms</th>\n",
       "      <th>bathrooms</th>\n",
       "      <th>number_of_reviews</th>\n",
       "      <th>availability_365</th>\n",
       "      <th>minimum_nights</th>\n",
       "      <th>price</th>\n",
       "      <th>is_apartment</th>\n",
       "      <th>is_house</th>\n",
       "      <th>is_condo</th>\n",
       "    </tr>\n",
       "  </thead>\n",
       "  <tbody>\n",
       "    <tr>\n",
       "      <th>0</th>\n",
       "      <td>1.0</td>\n",
       "      <td>2.0</td>\n",
       "      <td>1.5</td>\n",
       "      <td>0</td>\n",
       "      <td>0</td>\n",
       "      <td>2</td>\n",
       "      <td>250.0</td>\n",
       "      <td>0</td>\n",
       "      <td>1</td>\n",
       "      <td>0</td>\n",
       "    </tr>\n",
       "    <tr>\n",
       "      <th>1</th>\n",
       "      <td>1.0</td>\n",
       "      <td>1.0</td>\n",
       "      <td>1.0</td>\n",
       "      <td>36</td>\n",
       "      <td>359</td>\n",
       "      <td>2</td>\n",
       "      <td>65.0</td>\n",
       "      <td>1</td>\n",
       "      <td>0</td>\n",
       "      <td>0</td>\n",
       "    </tr>\n",
       "    <tr>\n",
       "      <th>2</th>\n",
       "      <td>1.0</td>\n",
       "      <td>1.0</td>\n",
       "      <td>1.0</td>\n",
       "      <td>41</td>\n",
       "      <td>319</td>\n",
       "      <td>3</td>\n",
       "      <td>65.0</td>\n",
       "      <td>1</td>\n",
       "      <td>0</td>\n",
       "      <td>0</td>\n",
       "    </tr>\n",
       "    <tr>\n",
       "      <th>3</th>\n",
       "      <td>1.0</td>\n",
       "      <td>1.0</td>\n",
       "      <td>1.0</td>\n",
       "      <td>1</td>\n",
       "      <td>98</td>\n",
       "      <td>1</td>\n",
       "      <td>75.0</td>\n",
       "      <td>0</td>\n",
       "      <td>1</td>\n",
       "      <td>0</td>\n",
       "    </tr>\n",
       "    <tr>\n",
       "      <th>4</th>\n",
       "      <td>1.0</td>\n",
       "      <td>1.0</td>\n",
       "      <td>1.5</td>\n",
       "      <td>29</td>\n",
       "      <td>334</td>\n",
       "      <td>2</td>\n",
       "      <td>79.0</td>\n",
       "      <td>0</td>\n",
       "      <td>1</td>\n",
       "      <td>0</td>\n",
       "    </tr>\n",
       "  </tbody>\n",
       "</table>\n",
       "</div>"
      ],
      "text/plain": [
       "   host_response_rate  bedrooms  bathrooms  number_of_reviews  \\\n",
       "0                 1.0       2.0        1.5                  0   \n",
       "1                 1.0       1.0        1.0                 36   \n",
       "2                 1.0       1.0        1.0                 41   \n",
       "3                 1.0       1.0        1.0                  1   \n",
       "4                 1.0       1.0        1.5                 29   \n",
       "\n",
       "   availability_365  minimum_nights  price  is_apartment  is_house  is_condo  \n",
       "0                 0               2  250.0             0         1         0  \n",
       "1               359               2   65.0             1         0         0  \n",
       "2               319               3   65.0             1         0         0  \n",
       "3                98               1   75.0             0         1         0  \n",
       "4               334               2   79.0             0         1         0  "
      ]
     },
     "execution_count": 24,
     "metadata": {},
     "output_type": "execute_result"
    }
   ],
   "source": [
    "# Now we can drop the property_type column in preparation for ml model\n",
    "df_ml4 = df_ml3.drop('property_type', axis = 1)\n",
    "df_ml4.head()"
   ]
  },
  {
   "cell_type": "code",
   "execution_count": 25,
   "metadata": {},
   "outputs": [
    {
     "data": {
      "text/plain": [
       "'The r-squared score for the model was 0.15117350764673 on 1075 values.'"
      ]
     },
     "execution_count": 25,
     "metadata": {},
     "output_type": "execute_result"
    }
   ],
   "source": [
    "# Now we can prepare the ML model\n",
    "\n",
    "# Create matrix of input variables and define response variable\n",
    "df_inputs = df_ml4.drop('price', axis = 1)\n",
    "df_response = df_ml4['price']\n",
    "X = df_inputs\n",
    "y = df_response\n",
    "\n",
    "# Split the dataset into training and test data\n",
    "X_train, X_test, y_train, y_test = train_test_split(X, y, test_size = .30, random_state=42)\n",
    "\n",
    "#Four steps:\n",
    "\n",
    "#Instantiate\n",
    "lm_model = LinearRegression(normalize=True) \n",
    "\n",
    "#Fit\n",
    "lm_model.fit(X_train, y_train) \n",
    "\n",
    "#Predict and Score the model\n",
    "y_test_preds = lm_model.predict(X_test) \n",
    "\"The r-squared score for the model was {} on {} values.\".format(r2_score(y_test, y_test_preds), len(y_test))"
   ]
  },
  {
   "cell_type": "code",
   "execution_count": 26,
   "metadata": {},
   "outputs": [
    {
     "data": {
      "image/png": "[encoded data removed]",
      "text/plain": [
       "<Figure size 432x288 with 2 Axes>"
      ]
     },
     "metadata": {
      "needs_background": "light"
     },
     "output_type": "display_data"
    }
   ],
   "source": [
    "sns.heatmap(df_ml4.corr(), annot=True, fmt=\".2f\");\n",
    "plt.title('Correlation of multiple variables to price response variable')\n",
    "plt.savefig('correlation_heat_map.png', dpi=300, bbox_inches='tight')"
   ]
  },
  {
   "cell_type": "code",
   "execution_count": null,
   "metadata": {},
   "outputs": [],
   "source": []
  }
 ],
 "metadata": {
  "kernelspec": {
   "display_name": "Python 3",
   "language": "python",
   "name": "python3"
  },
  "language_info": {
   "codemirror_mode": {
    "name": "ipython",
    "version": 3
   },
   "file_extension": ".py",
   "mimetype": "text/x-python",
   "name": "python",
   "nbconvert_exporter": "python",
   "pygments_lexer": "ipython3",
   "version": "3.8.3"
  }
 },
 "nbformat": 4,
 "nbformat_minor": 4
}
